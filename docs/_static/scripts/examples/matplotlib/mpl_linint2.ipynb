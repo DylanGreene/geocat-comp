{
 "cells": [
  {
   "cell_type": "code",
   "execution_count": null,
   "metadata": {},
   "outputs": [],
   "source": [
    "import numpy as np\n",
    "import xarray as xr\n",
    "import geocat.comp\n",
    "import cartopy.crs as ccrs\n",
    "import matplotlib.pyplot as plt\n",
    "import matplotlib.ticker as mticker\n",
    "from matplotlib import cm\n",
    "from cartopy.mpl.ticker import LongitudeFormatter, LatitudeFormatter\n",
    "from cartopy.mpl.geoaxes import GeoAxes\n",
    "from mpl_toolkits.axes_grid1 import AxesGrid"
   ]
  },
  {
   "cell_type": "markdown",
   "metadata": {},
   "source": [
    "Open a netCDF data file using xarray default engine and load the data into xarrays"
   ]
  },
  {
   "cell_type": "code",
   "execution_count": null,
   "metadata": {},
   "outputs": [],
   "source": [
    "ds = xr.open_dataset(\"sst.nc\")\n",
    "sst = ds.TEMP[0,0,:,:]\n",
    "lat = ds.LAT[:]\n",
    "lon = ds.LON[:]"
   ]
  },
  {
   "cell_type": "markdown",
   "metadata": {},
   "source": [
    "Provide interpolation grid and call $linint2$ function from $geocat-comp$"
   ]
  },
  {
   "cell_type": "code",
   "execution_count": null,
   "metadata": {},
   "outputs": [],
   "source": [
    "newlat = np.linspace(min(lat), max(lat), 128)\n",
    "newlon = np.linspace(min(lon), max(lon), 360)\n",
    "newsst = geocat.comp.linint2(sst, newlon, newlat, 0)"
   ]
  },
  {
   "cell_type": "markdown",
   "metadata": {},
   "source": [
    "Visualize the interpolated grid $newsst$ using matplotlib and cartopy"
   ]
  },
  {
   "cell_type": "code",
   "execution_count": null,
   "metadata": {},
   "outputs": [],
   "source": [
    "#### -----  Graphics using cartopy and matplotlib ----- ####\n",
    "projection = ccrs.PlateCarree()\n",
    "axes_class = (GeoAxes, dict(map_projection=projection))\n",
    "fig = plt.figure(figsize=(10,8))\n",
    "axgr = AxesGrid(fig, 111, axes_class=axes_class,\n",
    "                nrows_ncols=(2, 1),\n",
    "                axes_pad=0.7,\n",
    "                cbar_location='bottom',\n",
    "                cbar_mode='single',\n",
    "                cbar_pad=0.1,\n",
    "                cbar_size='10%',\n",
    "                label_mode='')  # note the empty label_mode\n",
    "\n",
    "for i, ax in enumerate(axgr):\n",
    "    ax.coastlines()\n",
    "    ax.set_xticks(np.linspace(-180, 180, 13), crs=projection)\n",
    "    ax.set_yticks(np.linspace(-60, 60, 5), crs=projection)\n",
    "    lon_formatter = LongitudeFormatter(zero_direction_label=True)\n",
    "    lat_formatter = LatitudeFormatter()\n",
    "    ax.xaxis.set_major_formatter(lon_formatter)\n",
    "    ax.yaxis.set_major_formatter(lat_formatter)\n",
    "\n",
    "    # Plot contours for both the subplots\n",
    "    if( i==0 ):\n",
    "        X, Y = np.meshgrid(lon, lat)\n",
    "        p=ax.contourf(X, Y, sst, levels=16, transform=projection, cmap=cm.jet)\n",
    "        ax.set_title('Original Grid', fontsize=14, fontweight='bold')\n",
    "    else:\n",
    "        newX, newY = np.meshgrid(newlon, newlat)\n",
    "        p=ax.contourf(newX, newY, newsst, levels=16, transform=projection, cmap=cm.jet)\n",
    "        ax.set_title('ReGrid - linint2', fontsize=14, fontweight='bold')\n",
    "\n",
    "# Add color bar and label details (title, size, etc.)\n",
    "cax=axgr.cbar_axes[0]\n",
    "cax.colorbar(p)\n",
    "axis=cax.axis[cax.orientation]\n",
    "axis.label.set_text('Temperature ($^{\\circ} C$)')\n",
    "axis.label.set_size(16)\n",
    "axis.major_ticklabels.set_size(10)\n",
    "\n",
    "# Save figure and show\n",
    "plt.savefig('linint2', dpi=300)\n",
    "plt.show()"
   ]
  },
  {
   "cell_type": "code",
   "execution_count": null,
   "metadata": {},
   "outputs": [],
   "source": []
  }
 ],
 "metadata": {
  "kernelspec": {
   "display_name": "Python 3",
   "language": "python",
   "name": "python3"
  },
  "language_info": {
   "codemirror_mode": {
    "name": "ipython",
    "version": 3
   },
   "file_extension": ".py",
   "mimetype": "text/x-python",
   "name": "python",
   "nbconvert_exporter": "python",
   "pygments_lexer": "ipython3",
   "version": "3.7.3"
  }
 },
 "nbformat": 4,
 "nbformat_minor": 2
}
